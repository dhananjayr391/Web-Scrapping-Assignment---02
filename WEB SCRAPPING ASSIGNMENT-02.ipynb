{
 "cells": [
  {
   "cell_type": "markdown",
   "id": "89dc80fa",
   "metadata": {},
   "source": [
    "## WEB SCRAPPING"
   ]
  },
  {
   "cell_type": "code",
   "execution_count": 1,
   "id": "e0ac2d33",
   "metadata": {
    "scrolled": true
   },
   "outputs": [
    {
     "name": "stdout",
     "output_type": "stream",
     "text": [
      "Defaulting to user installation because normal site-packages is not writeable\n",
      "Requirement already satisfied: bs4 in c:\\users\\asus\\appdata\\roaming\\python\\python39\\site-packages (0.0.1)\n",
      "Requirement already satisfied: beautifulsoup4 in c:\\programdata\\anaconda3\\lib\\site-packages (from bs4) (4.11.1)\n",
      "Requirement already satisfied: soupsieve>1.2 in c:\\programdata\\anaconda3\\lib\\site-packages (from beautifulsoup4->bs4) (2.3.1)\n",
      "Note: you may need to restart the kernel to use updated packages.\n"
     ]
    }
   ],
   "source": [
    "pip install bs4"
   ]
  },
  {
   "cell_type": "code",
   "execution_count": 2,
   "id": "f64dc9b1",
   "metadata": {},
   "outputs": [],
   "source": [
    "# Importing BeautifulSoup, requests and pandas library\n",
    "from bs4 import BeautifulSoup\n",
    "import requests\n",
    "import pandas as pd\n"
   ]
  },
  {
   "cell_type": "code",
   "execution_count": 3,
   "id": "ac753772",
   "metadata": {},
   "outputs": [],
   "source": [
    "# Website from which data to be scrapped\n",
    "url = 'http://quotes.toscrape.com/page/1/'"
   ]
  },
  {
   "cell_type": "code",
   "execution_count": 4,
   "id": "2a0c488b",
   "metadata": {},
   "outputs": [],
   "source": [
    "# Getting pandas readable data from website(url)\n",
    "response = requests.get(url)"
   ]
  },
  {
   "cell_type": "code",
   "execution_count": 5,
   "id": "4a916ab8",
   "metadata": {},
   "outputs": [],
   "source": [
    "# Getting only text (content) from website\n",
    "response = response.content"
   ]
  },
  {
   "cell_type": "code",
   "execution_count": 6,
   "id": "aab48f1c",
   "metadata": {},
   "outputs": [],
   "source": [
    "# Saving website content data into soup variable\n",
    "soup = BeautifulSoup(response,'html.parser')"
   ]
  },
  {
   "cell_type": "code",
   "execution_count": 21,
   "id": "23cdbf72",
   "metadata": {},
   "outputs": [],
   "source": [
    "#Checking website text data into pandas readable form\n",
    "soup"
   ]
  },
  {
   "cell_type": "code",
   "execution_count": 8,
   "id": "0bc14b4e",
   "metadata": {},
   "outputs": [],
   "source": [
    "# Saving required data to be scrapped, into the variable 'divs'\n",
    "divs = soup.find_all('div',class_='quote')\n"
   ]
  },
  {
   "cell_type": "code",
   "execution_count": 20,
   "id": "15d1c9e6",
   "metadata": {},
   "outputs": [],
   "source": [
    "# Checking what is extracted from divs variable\n",
    "divs"
   ]
  },
  {
   "cell_type": "markdown",
   "id": "bd0e1d77",
   "metadata": {},
   "source": [
    "### Now, we have to scrap- quotes, tags and authors from the webiste. "
   ]
  },
  {
   "cell_type": "code",
   "execution_count": 10,
   "id": "59b18654",
   "metadata": {},
   "outputs": [
    {
     "name": "stdout",
     "output_type": "stream",
     "text": [
      "“The world as we have created it is a process of our thinking. It cannot be changed without changing our thinking.”\n",
      "“It is our choices, Harry, that show what we truly are, far more than our abilities.”\n",
      "“There are only two ways to live your life. One is as though nothing is a miracle. The other is as though everything is a miracle.”\n",
      "“The person, be it gentleman or lady, who has not pleasure in a good novel, must be intolerably stupid.”\n",
      "“Imperfection is beauty, madness is genius and it's better to be absolutely ridiculous than absolutely boring.”\n",
      "“Try not to become a man of success. Rather become a man of value.”\n",
      "“It is better to be hated for what you are than to be loved for what you are not.”\n",
      "“I have not failed. I've just found 10,000 ways that won't work.”\n",
      "“A woman is like a tea bag; you never know how strong it is until it's in hot water.”\n",
      "“A day without sunshine is like, you know, night.”\n"
     ]
    }
   ],
   "source": [
    "# Scrapping Quotes from the website:\n",
    "for article in divs:\n",
    "    quotes = article.find('span',class_='text').text\n",
    "    print(quotes)"
   ]
  },
  {
   "cell_type": "code",
   "execution_count": 11,
   "id": "4f7f73fd",
   "metadata": {},
   "outputs": [
    {
     "name": "stdout",
     "output_type": "stream",
     "text": [
      "change\n",
      "abilities\n",
      "inspirational\n",
      "aliteracy\n",
      "be-yourself\n",
      "adulthood\n",
      "life\n",
      "edison\n",
      "misattributed-eleanor-roosevelt\n",
      "humor\n"
     ]
    }
   ],
   "source": [
    "# Scrapping Tags from the website:\n",
    "for article in divs:\n",
    "    tags = article.find('a',class_='tag').text\n",
    "    print(tags)"
   ]
  },
  {
   "cell_type": "code",
   "execution_count": 12,
   "id": "e5a8c170",
   "metadata": {},
   "outputs": [
    {
     "name": "stdout",
     "output_type": "stream",
     "text": [
      "Albert Einstein\n",
      "J.K. Rowling\n",
      "Albert Einstein\n",
      "Jane Austen\n",
      "Marilyn Monroe\n",
      "Albert Einstein\n",
      "André Gide\n",
      "Thomas A. Edison\n",
      "Eleanor Roosevelt\n",
      "Steve Martin\n"
     ]
    }
   ],
   "source": [
    "# Scrapping Authors from the website:\n",
    "for article in divs:\n",
    "    author = article.find('small',class_='author').text\n",
    "    print(author)"
   ]
  },
  {
   "cell_type": "code",
   "execution_count": 14,
   "id": "f240d9cd",
   "metadata": {},
   "outputs": [
    {
     "name": "stdout",
     "output_type": "stream",
     "text": [
      "[['“The world as we have created it is a process of our thinking. It cannot be changed without changing our thinking.”', 'change', 'Albert Einstein'], ['“It is our choices, Harry, that show what we truly are, far more than our abilities.”', 'abilities', 'J.K. Rowling'], ['“There are only two ways to live your life. One is as though nothing is a miracle. The other is as though everything is a miracle.”', 'inspirational', 'Albert Einstein'], ['“The person, be it gentleman or lady, who has not pleasure in a good novel, must be intolerably stupid.”', 'aliteracy', 'Jane Austen'], [\"“Imperfection is beauty, madness is genius and it's better to be absolutely ridiculous than absolutely boring.”\", 'be-yourself', 'Marilyn Monroe'], ['“Try not to become a man of success. Rather become a man of value.”', 'adulthood', 'Albert Einstein'], ['“It is better to be hated for what you are than to be loved for what you are not.”', 'life', 'André Gide'], [\"“I have not failed. I've just found 10,000 ways that won't work.”\", 'edison', 'Thomas A. Edison'], [\"“A woman is like a tea bag; you never know how strong it is until it's in hot water.”\", 'misattributed-eleanor-roosevelt', 'Eleanor Roosevelt'], ['“A day without sunshine is like, you know, night.”', 'humor', 'Steve Martin']]\n"
     ]
    }
   ],
   "source": [
    "divs = soup.find_all('div',class_='quote')\n",
    "\n",
    "QUOTES = []\n",
    "\n",
    "for article in divs:\n",
    "    quotes = article.find('span',class_='text').text\n",
    "    tags = article.find('a',class_='tag').text\n",
    "    author = article.find('small',class_='author').text\n",
    "    QUOTES.append([quotes,tags,author])\n",
    "print(QUOTES)\n",
    "\n"
   ]
  },
  {
   "cell_type": "code",
   "execution_count": 16,
   "id": "1f1943da",
   "metadata": {},
   "outputs": [],
   "source": [
    "QUOTES = []\n",
    "\n",
    "for i in (1,4):\n",
    "    url = 'http://quotes.toscrape.com/page/1/'\n",
    "    response = requests.get(url)\n",
    "    response = response.content\n",
    "    soup = BeautifulSoup(response,'html.parser')\n",
    "for article in divs:\n",
    "    quotes = article.find('span',class_='text').text\n",
    "    tags = article.find('a',class_='tag').text\n",
    "    author = article.find('small',class_='author').text\n",
    "    QUOTES.append([quotes,tags,author])\n"
   ]
  },
  {
   "cell_type": "code",
   "execution_count": 19,
   "id": "5a60f487",
   "metadata": {},
   "outputs": [
    {
     "data": {
      "text/html": [
       "<div>\n",
       "<style scoped>\n",
       "    .dataframe tbody tr th:only-of-type {\n",
       "        vertical-align: middle;\n",
       "    }\n",
       "\n",
       "    .dataframe tbody tr th {\n",
       "        vertical-align: top;\n",
       "    }\n",
       "\n",
       "    .dataframe thead th {\n",
       "        text-align: right;\n",
       "    }\n",
       "</style>\n",
       "<table border=\"1\" class=\"dataframe\">\n",
       "  <thead>\n",
       "    <tr style=\"text-align: right;\">\n",
       "      <th></th>\n",
       "      <th>Quotes</th>\n",
       "      <th>Tags</th>\n",
       "      <th>Author</th>\n",
       "    </tr>\n",
       "  </thead>\n",
       "  <tbody>\n",
       "    <tr>\n",
       "      <th>0</th>\n",
       "      <td>“The world as we have created it is a process ...</td>\n",
       "      <td>change</td>\n",
       "      <td>Albert Einstein</td>\n",
       "    </tr>\n",
       "    <tr>\n",
       "      <th>1</th>\n",
       "      <td>“It is our choices, Harry, that show what we t...</td>\n",
       "      <td>abilities</td>\n",
       "      <td>J.K. Rowling</td>\n",
       "    </tr>\n",
       "    <tr>\n",
       "      <th>2</th>\n",
       "      <td>“There are only two ways to live your life. On...</td>\n",
       "      <td>inspirational</td>\n",
       "      <td>Albert Einstein</td>\n",
       "    </tr>\n",
       "    <tr>\n",
       "      <th>3</th>\n",
       "      <td>“The person, be it gentleman or lady, who has ...</td>\n",
       "      <td>aliteracy</td>\n",
       "      <td>Jane Austen</td>\n",
       "    </tr>\n",
       "    <tr>\n",
       "      <th>4</th>\n",
       "      <td>“Imperfection is beauty, madness is genius and...</td>\n",
       "      <td>be-yourself</td>\n",
       "      <td>Marilyn Monroe</td>\n",
       "    </tr>\n",
       "    <tr>\n",
       "      <th>5</th>\n",
       "      <td>“Try not to become a man of success. Rather be...</td>\n",
       "      <td>adulthood</td>\n",
       "      <td>Albert Einstein</td>\n",
       "    </tr>\n",
       "    <tr>\n",
       "      <th>6</th>\n",
       "      <td>“It is better to be hated for what you are tha...</td>\n",
       "      <td>life</td>\n",
       "      <td>André Gide</td>\n",
       "    </tr>\n",
       "    <tr>\n",
       "      <th>7</th>\n",
       "      <td>“I have not failed. I've just found 10,000 way...</td>\n",
       "      <td>edison</td>\n",
       "      <td>Thomas A. Edison</td>\n",
       "    </tr>\n",
       "    <tr>\n",
       "      <th>8</th>\n",
       "      <td>“A woman is like a tea bag; you never know how...</td>\n",
       "      <td>misattributed-eleanor-roosevelt</td>\n",
       "      <td>Eleanor Roosevelt</td>\n",
       "    </tr>\n",
       "    <tr>\n",
       "      <th>9</th>\n",
       "      <td>“A day without sunshine is like, you know, nig...</td>\n",
       "      <td>humor</td>\n",
       "      <td>Steve Martin</td>\n",
       "    </tr>\n",
       "  </tbody>\n",
       "</table>\n",
       "</div>"
      ],
      "text/plain": [
       "                                              Quotes  \\\n",
       "0  “The world as we have created it is a process ...   \n",
       "1  “It is our choices, Harry, that show what we t...   \n",
       "2  “There are only two ways to live your life. On...   \n",
       "3  “The person, be it gentleman or lady, who has ...   \n",
       "4  “Imperfection is beauty, madness is genius and...   \n",
       "5  “Try not to become a man of success. Rather be...   \n",
       "6  “It is better to be hated for what you are tha...   \n",
       "7  “I have not failed. I've just found 10,000 way...   \n",
       "8  “A woman is like a tea bag; you never know how...   \n",
       "9  “A day without sunshine is like, you know, nig...   \n",
       "\n",
       "                              Tags             Author  \n",
       "0                           change    Albert Einstein  \n",
       "1                        abilities       J.K. Rowling  \n",
       "2                    inspirational    Albert Einstein  \n",
       "3                        aliteracy        Jane Austen  \n",
       "4                      be-yourself     Marilyn Monroe  \n",
       "5                        adulthood    Albert Einstein  \n",
       "6                             life         André Gide  \n",
       "7                           edison   Thomas A. Edison  \n",
       "8  misattributed-eleanor-roosevelt  Eleanor Roosevelt  \n",
       "9                            humor       Steve Martin  "
      ]
     },
     "execution_count": 19,
     "metadata": {},
     "output_type": "execute_result"
    }
   ],
   "source": [
    "QUOTE = pd.DataFrame(QUOTES,columns = ['Quotes','Tags','Author'])\n",
    "QUOTE"
   ]
  },
  {
   "cell_type": "code",
   "execution_count": null,
   "id": "83b12177",
   "metadata": {},
   "outputs": [],
   "source": []
  },
  {
   "cell_type": "code",
   "execution_count": null,
   "id": "4db9981e",
   "metadata": {},
   "outputs": [],
   "source": []
  },
  {
   "cell_type": "code",
   "execution_count": null,
   "id": "17a2a8d1",
   "metadata": {},
   "outputs": [],
   "source": []
  },
  {
   "cell_type": "code",
   "execution_count": null,
   "id": "1dc68142",
   "metadata": {},
   "outputs": [],
   "source": []
  },
  {
   "cell_type": "code",
   "execution_count": null,
   "id": "67895e70",
   "metadata": {},
   "outputs": [],
   "source": []
  },
  {
   "cell_type": "code",
   "execution_count": null,
   "id": "33584bb4",
   "metadata": {},
   "outputs": [],
   "source": []
  },
  {
   "cell_type": "code",
   "execution_count": null,
   "id": "c28fd93c",
   "metadata": {},
   "outputs": [],
   "source": []
  },
  {
   "cell_type": "code",
   "execution_count": null,
   "id": "578e42a8",
   "metadata": {},
   "outputs": [],
   "source": []
  },
  {
   "cell_type": "code",
   "execution_count": null,
   "id": "4a520062",
   "metadata": {},
   "outputs": [],
   "source": []
  },
  {
   "cell_type": "code",
   "execution_count": null,
   "id": "435d17bd",
   "metadata": {},
   "outputs": [],
   "source": []
  },
  {
   "cell_type": "code",
   "execution_count": null,
   "id": "11f7fbc1",
   "metadata": {},
   "outputs": [],
   "source": []
  },
  {
   "cell_type": "code",
   "execution_count": null,
   "id": "8de7f07f",
   "metadata": {},
   "outputs": [],
   "source": []
  },
  {
   "cell_type": "code",
   "execution_count": null,
   "id": "37d03443",
   "metadata": {},
   "outputs": [],
   "source": []
  },
  {
   "cell_type": "code",
   "execution_count": null,
   "id": "8bcab3b2",
   "metadata": {},
   "outputs": [],
   "source": []
  },
  {
   "cell_type": "code",
   "execution_count": null,
   "id": "674224f3",
   "metadata": {},
   "outputs": [],
   "source": []
  },
  {
   "cell_type": "code",
   "execution_count": null,
   "id": "8aea8597",
   "metadata": {},
   "outputs": [],
   "source": []
  }
 ],
 "metadata": {
  "kernelspec": {
   "display_name": "Python 3 (ipykernel)",
   "language": "python",
   "name": "python3"
  },
  "language_info": {
   "codemirror_mode": {
    "name": "ipython",
    "version": 3
   },
   "file_extension": ".py",
   "mimetype": "text/x-python",
   "name": "python",
   "nbconvert_exporter": "python",
   "pygments_lexer": "ipython3",
   "version": "3.9.13"
  }
 },
 "nbformat": 4,
 "nbformat_minor": 5
}
